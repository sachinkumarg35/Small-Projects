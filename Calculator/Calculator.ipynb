{
 "cells": [
  {
   "cell_type": "code",
   "execution_count": 1,
   "metadata": {},
   "outputs": [
    {
     "name": "stderr",
     "output_type": "stream",
     "text": [
      "WARNING: Ignoring invalid distribution -tatsmodels (c:\\users\\hp\\anaconda3\\lib\\site-packages)\n",
      "WARNING: Ignoring invalid distribution -tatsmodels (c:\\users\\hp\\anaconda3\\lib\\site-packages)\n",
      "ERROR: Could not find a version that satisfies the requirement tkinter (from versions: none)\n",
      "ERROR: No matching distribution found for tkinter\n",
      "WARNING: Ignoring invalid distribution -tatsmodels (c:\\users\\hp\\anaconda3\\lib\\site-packages)\n",
      "WARNING: Ignoring invalid distribution -tatsmodels (c:\\users\\hp\\anaconda3\\lib\\site-packages)\n",
      "WARNING: Ignoring invalid distribution -tatsmodels (c:\\users\\hp\\anaconda3\\lib\\site-packages)\n",
      "WARNING: You are using pip version 21.2.4; however, version 22.2.1 is available.\n",
      "You should consider upgrading via the 'c:\\users\\hp\\anaconda3\\python.exe -m pip install --upgrade pip' command.\n"
     ]
    }
   ],
   "source": [
    "!pip install tkinter"
   ]
  },
  {
   "cell_type": "code",
   "execution_count": 2,
   "metadata": {},
   "outputs": [],
   "source": [
    "import tkinter as tk\n",
    "from tkinter import *"
   ]
  },
  {
   "cell_type": "code",
   "execution_count": 3,
   "metadata": {},
   "outputs": [],
   "source": [
    "app = tk.Tk()"
   ]
  },
  {
   "cell_type": "code",
   "execution_count": 4,
   "metadata": {},
   "outputs": [],
   "source": [
    "app.geometry(\"170x230\")\n",
    "app.title(\"python-calculator\")\n",
    "app.maxsize(170,230)\n",
    "app.minsize(170,230)"
   ]
  },
  {
   "cell_type": "code",
   "execution_count": 5,
   "metadata": {},
   "outputs": [],
   "source": [
    "ent = Entry(app, width=16, borderwidth=3, relief=RIDGE)\n",
    "ent.grid(pady=10,row=0,sticky=\"w\",padx=15)"
   ]
  },
  {
   "cell_type": "code",
   "execution_count": 6,
   "metadata": {},
   "outputs": [],
   "source": [
    "def delete():\n",
    "        a = ent.get()\n",
    "        ent.delete(first=len(a)-1,last=\"end\")\n",
    "def fresult():\n",
    "        if ent.get() == \"\":\n",
    "                pass\n",
    "        elif ent.get()[0] == \"0\":\n",
    "                ent.delete(0,\"end\")\n",
    "        else:\n",
    "                c_res = ent.get()\n",
    "                c_res = eval(c_res)\n",
    "                clearf()\n",
    "                ent.insert(\"end\",c_res)\n",
    "def clearf():\n",
    "        ent.delete(0,\"end\")"
   ]
  },
  {
   "cell_type": "code",
   "execution_count": 7,
   "metadata": {},
   "outputs": [],
   "source": [
    "clean = Button(app,text=\"C\",width=2,command=clearf,bg=\"green\",fg=\"white\",relief=RIDGE)\n",
    "clean.grid(row=0,sticky=\"w\",padx=125)\n",
    "Char_nine = Button(text=\"9\",width=2,command=lambda : ent.insert(\"end\",\"9\"),borderwidth=3,relief=RIDGE)\n",
    "Char_nine.grid(row=1,sticky=\"w\",padx=15)\n",
    "Char_eight = Button(text=\"8\",width=2,command=lambda : ent.insert(\"end\",\"8\"),borderwidth=3,relief=RIDGE)\n",
    "Char_eight.grid(row=1,sticky=\"w\",padx=45)\n",
    "Char_seven = Button(app,text=\"7\",width=2,command=lambda : ent.insert(\"end\",\"7\"),borderwidth=3,relief=RIDGE)\n",
    "Char_seven.grid(row=1,sticky=\"w\",padx=75)\n",
    "Char_plus = Button(app,text=\"+\",width=2,command=lambda : ent.insert(\"end\",\"+\"),borderwidth=3,relief=RIDGE)\n",
    "Char_plus.grid(row=1,sticky=\"e\",padx=125)\n",
    "Char_six = Button(text=\"6\",width=2,command=lambda : ent.insert(\"end\",\"6\"),borderwidth=3,relief=RIDGE)\n",
    "Char_six.grid(row=2,sticky=\"w\",padx=15,pady=5)\n",
    "Char_five = Button(text=\"5\",width=2,command=lambda : ent.insert(\"end\",\"5\"),borderwidth=3,relief=RIDGE)\n",
    "Char_five.grid(row=2,sticky=\"w\",padx=45,pady=5)\n",
    "Char_four = Button(app,text=\"4\",width=2,command=lambda : ent.insert(\"end\",\"4\"),borderwidth=3,relief=RIDGE)\n",
    "Char_four.grid(row=2,sticky=\"w\",padx=75,pady=5)\n",
    "Char_minus = Button(app,text=\"-\",width=2,command=lambda : ent.insert(\"end\",\"-\"),borderwidth=3,relief=RIDGE)\n",
    "Char_minus.grid(row=2,sticky=\"e\",padx=125,pady=5)\n",
    "Char_three = Button(text=\"3\",width=2,command=lambda : ent.insert(\"end\",\"3\"),borderwidth=3,relief=RIDGE)\n",
    "Char_three.grid(row=3,sticky=\"w\",padx=15,pady=5)\n",
    "Char_two = Button(text=\"2\",width=2,command=lambda : ent.insert(\"end\",\"2\"),borderwidth=3,relief=RIDGE)\n",
    "Char_two.grid(row=3,sticky=\"w\",padx=45,pady=5)\n",
    "Char_one = Button(app,text=\"1\",width=2,command=lambda : ent.insert(\"end\",\"1\"),borderwidth=3,relief=RIDGE)\n",
    "Char_one.grid(row=3,sticky=\"w\",padx=75,pady=5)\n",
    "Char_multiply = Button(app,text=\"*\",width=2,command=lambda : ent.insert(\"end\",\"*\"),borderwidth=3,relief=RIDGE)\n",
    "Char_multiply.grid(row=3,sticky=\"e\",padx=125,pady=5)\n",
    "Char_zero = Button(text=\"0\",width=2,command=lambda : ent.insert(\"end\",\"0\"),borderwidth=3,relief=RIDGE)\n",
    "Char_zero.grid(row=4,sticky=\"w\",padx=15,pady=5)\n",
    "Char_double_zero = Button(text=\"00\",width=2,command=lambda : ent.insert(\"end\",\"00\"),borderwidth=3,relief=RIDGE)\n",
    "Char_double_zero.grid(row=4,sticky=\"w\",padx=45,pady=5)\n",
    "Char_dot = Button(app,text=\".\",width=2,command=lambda : ent.insert(\"end\",\".\"),borderwidth=3,relief=RIDGE)\n",
    "Char_dot.grid(row=4,sticky=\"w\",padx=75,pady=5)\n",
    "Char_divide = Button(app,text=\"/\",width=2,command=lambda : ent.insert(\"end\",\"/\"),borderwidth=3,relief=RIDGE)\n",
    "Char_divide.grid(row=4,sticky=\"e\",padx=125,pady=5)\n",
    "result = Button(app,text=\"=\",width=10,command=fresult,bg=\"green\",fg=\"white\",borderwidth=3,relief=RIDGE)\n",
    "result.grid(row=5,sticky=\"w\",padx=15,pady=5)\n",
    "Char_modulus = Button(app,text=\"%\",width=2,command=lambda : ent.insert(\"end\",\"%\"),borderwidth=3,relief=RIDGE)\n",
    "Char_modulus.grid(row=5,sticky=\"e\",padx=125,pady=5)\n",
    "delete = Button(app,text=\"del\",width=2,command=delete,borderwidth=3,relief=RIDGE)\n",
    "delete.grid(row=5,sticky=\"w\",padx=80,pady=5)"
   ]
  },
  {
   "cell_type": "code",
   "execution_count": null,
   "metadata": {},
   "outputs": [],
   "source": [
    "app.mainloop()"
   ]
  },
  {
   "cell_type": "code",
   "execution_count": null,
   "metadata": {},
   "outputs": [],
   "source": [
    "pip install pyinstaller"
   ]
  },
  {
   "cell_type": "code",
   "execution_count": null,
   "metadata": {},
   "outputs": [],
   "source": []
  }
 ],
 "metadata": {
  "kernelspec": {
   "display_name": "Python 3",
   "language": "python",
   "name": "python3"
  },
  "language_info": {
   "codemirror_mode": {
    "name": "ipython",
    "version": 3
   },
   "file_extension": ".py",
   "mimetype": "text/x-python",
   "name": "python",
   "nbconvert_exporter": "python",
   "pygments_lexer": "ipython3",
   "version": "3.8.5"
  }
 },
 "nbformat": 4,
 "nbformat_minor": 4
}
